{
 "cells": [
  {
   "cell_type": "code",
   "execution_count": 1,
   "id": "53fe742a",
   "metadata": {},
   "outputs": [],
   "source": [
    "critics={\n",
    "     'hhd':{'guardians of the galaxy 2':5,'christmas in august':4,'boss baby':1.5},\n",
    "     'chs':{'christmas in august':5,'boss baby':2},\n",
    "     'kmh':{'guardians of the galaxy 2':2.5,'christmas in august':2,'boss baby':1},\n",
    "     'leb':{'guardians of the galaxy 2':3.5,'christmas in august':4,'boss baby':5}\n",
    "}\n"
   ]
  },
  {
   "cell_type": "code",
   "execution_count": 2,
   "id": "f5c137d2",
   "metadata": {},
   "outputs": [
    {
     "data": {
      "text/plain": [
       "{'boss baby': 1.5, 'christmas in august': 4, 'guardians of the galaxy 2': 5}"
      ]
     },
     "execution_count": 2,
     "metadata": {},
     "output_type": "execute_result"
    }
   ],
   "source": [
    "critics.get('hhd')\n",
    " \n",
    "{'boss baby': 1.5, 'christmas in august': 4, 'guardians of the galaxy 2': 5}"
   ]
  },
  {
   "cell_type": "code",
   "execution_count": 3,
   "id": "aab8c873",
   "metadata": {},
   "outputs": [
    {
     "data": {
      "text/plain": [
       "1.5"
      ]
     },
     "execution_count": 3,
     "metadata": {},
     "output_type": "execute_result"
    }
   ],
   "source": [
    "critics.get('hhd').get('boss baby')"
   ]
  },
  {
   "cell_type": "code",
   "execution_count": 4,
   "id": "ef7f6dc8",
   "metadata": {},
   "outputs": [],
   "source": [
    "from math import sqrt\n",
    "def sim(i, j):\n",
    "    return sqrt(pow(i,2)+pow(j,2))"
   ]
  },
  {
   "cell_type": "code",
   "execution_count": 6,
   "id": "bd511045",
   "metadata": {},
   "outputs": [
    {
     "data": {
      "text/plain": [
       "3.1622776601683795"
      ]
     },
     "execution_count": 6,
     "metadata": {},
     "output_type": "execute_result"
    }
   ],
   "source": [
    "var1 =  critics['chs']['christmas in august']-critics['leb']['christmas in august']\n",
    "var2 =  critics['chs']['boss baby']-critics['leb']['boss baby']\n",
    "sim(var1,var2) #위에서 정의한 함수"
   ]
  },
  {
   "cell_type": "code",
   "execution_count": 7,
   "id": "1d1b03c3",
   "metadata": {},
   "outputs": [
    {
     "name": "stdout",
     "output_type": "stream",
     "text": [
      "hhd  :  1.118033988749895\n",
      "kmh  :  3.1622776601683795\n",
      "leb  :  3.1622776601683795\n"
     ]
    }
   ],
   "source": [
    "for i in critics:\n",
    "    if i!='chs': #자기자신제외\n",
    "        num1 = critics.get('chs').get('christmas in august')- critics.get(i).get('christmas in august')\n",
    "        num2 = critics.get('chs').get('boss baby')- critics.get(i).get('boss baby')\n",
    "        print(i,\" : \", sim(num1,num2))"
   ]
  },
  {
   "cell_type": "code",
   "execution_count": 8,
   "id": "4fd42e3e",
   "metadata": {},
   "outputs": [
    {
     "name": "stdout",
     "output_type": "stream",
     "text": [
      "hhd  :  0.4721359549995794\n",
      "kmh  :  0.2402530733520421\n",
      "leb  :  0.2402530733520421\n"
     ]
    }
   ],
   "source": [
    "for i in critics:\n",
    "    if i!='chs':\n",
    "        num1 = critics.get('chs').get('christmas in august')- critics.get(i).get('christmas in august')\n",
    "        num2 = critics.get('chs').get('boss baby')- critics.get(i).get('boss baby')\n",
    "        print(i,\" : \", 1/(1+sim(num1,num2))) #정규화"
   ]
  },
  {
   "cell_type": "code",
   "execution_count": 9,
   "id": "c7f7dc13",
   "metadata": {},
   "outputs": [],
   "source": [
    "def sim_distance(data, name1, name2):\n",
    "    sum=0\n",
    "    for i in data[name1]:\n",
    "        if i in data[name2]: #같은 영화를 봤다면\n",
    "            sum+=pow(data[name1][i]- data[name2][i],2)\n",
    "        \n",
    "    return 1/(1+sqrt(sum))"
   ]
  },
  {
   "cell_type": "code",
   "execution_count": 10,
   "id": "a91cb0d1",
   "metadata": {},
   "outputs": [
    {
     "data": {
      "text/plain": [
       "0.2402530733520421"
      ]
     },
     "execution_count": 10,
     "metadata": {},
     "output_type": "execute_result"
    }
   ],
   "source": [
    "sim_distance(critics, 'chs','leb')"
   ]
  },
  {
   "cell_type": "code",
   "execution_count": 11,
   "id": "05c7023f",
   "metadata": {},
   "outputs": [],
   "source": [
    "def top_match(data, name, index=3, sim_function=sim_distance):\n",
    "    li=[]\n",
    "    for i in data:\n",
    "        if name!=i: #자기 자신은 제외한다\n",
    "            li.append((sim_function(data,name,i),i)) # 유사도, 이름을 튜플에 묶어 리스트에 추가한다\n",
    "    li.sort() #오름차순 정렬\n",
    "    li.reverse() #내림차순 정렬\n",
    "    \n",
    "    return li[:index]\n"
   ]
  },
  {
   "cell_type": "code",
   "execution_count": 40,
   "id": "3e83128c",
   "metadata": {},
   "outputs": [],
   "source": [
    "top_match(critics, 'chs')\n",
    "\n",
    "li=top_match(critics, 'chs')\n",
    "score=[]\n",
    "names=[]\n",
    "for i in li:\n",
    "    score.append(i[0])\n",
    "    names.append(i[1])"
   ]
  },
  {
   "cell_type": "code",
   "execution_count": 41,
   "id": "33b3d856",
   "metadata": {},
   "outputs": [
    {
     "data": {
      "text/plain": [
       "[0.4721359549995794, 0.2402530733520421, 0.2402530733520421]"
      ]
     },
     "execution_count": 41,
     "metadata": {},
     "output_type": "execute_result"
    }
   ],
   "source": [
    "score"
   ]
  },
  {
   "cell_type": "code",
   "execution_count": 42,
   "id": "d90378e4",
   "metadata": {},
   "outputs": [
    {
     "data": {
      "text/plain": [
       "['hhd', 'leb', 'kmh']"
      ]
     },
     "execution_count": 42,
     "metadata": {},
     "output_type": "execute_result"
    }
   ],
   "source": [
    "names"
   ]
  },
  {
   "cell_type": "code",
   "execution_count": 43,
   "id": "2b087def",
   "metadata": {},
   "outputs": [],
   "source": [
    "import matplotlib.pyplot as plt\n",
    "def barchart(data, labels): # data, labels는 list형태로 사용\n",
    "    positions = range(len(data))\n",
    "    plt.barh(positions, data, height=0.5,color='r') #가로\n",
    "    plt.yticks(positions, labels)\n",
    "    plt.xlabel('similarity') #x축\n",
    "    plt.ylabel('name') #y축\n",
    "    #plt_show #출력\n",
    "    \n"
   ]
  },
  {
   "cell_type": "code",
   "execution_count": 39,
   "id": "47b104f0",
   "metadata": {},
   "outputs": [
    {
     "data": {
      "image/png": "[encoded data removed]",
      "text/plain": [
       "<Figure size 432x288 with 1 Axes>"
      ]
     },
     "metadata": {
      "needs_background": "light"
     },
     "output_type": "display_data"
    }
   ],
   "source": [
    "barchart(score, names)"
   ]
  },
  {
   "cell_type": "code",
   "execution_count": null,
   "id": "ab9e7cbe",
   "metadata": {},
   "outputs": [],
   "source": []
  }
 ],
 "metadata": {
  "kernelspec": {
   "display_name": "Python 3 (ipykernel)",
   "language": "python",
   "name": "python3"
  },
  "language_info": {
   "codemirror_mode": {
    "name": "ipython",
    "version": 3
   },
   "file_extension": ".py",
   "mimetype": "text/x-python",
   "name": "python",
   "nbconvert_exporter": "python",
   "pygments_lexer": "ipython3",
   "version": "3.9.12"
  }
 },
 "nbformat": 4,
 "nbformat_minor": 5
}
