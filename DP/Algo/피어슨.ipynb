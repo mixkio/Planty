{
 "cells": [
  {
   "cell_type": "code",
   "execution_count": 1,
   "id": "a55e1d84",
   "metadata": {},
   "outputs": [],
   "source": [
    "critics={\n",
    "     'hhd':{'guardians of the galaxy 2':5,'christmas in august':4,'boss baby':1.5},\n",
    "     'chs':{'christmas in august':5,'boss baby':2},\n",
    "     'kmh':{'guardians of the galaxy 2':2.5,'christmas in august':2,'boss baby':1},\n",
    "     'leb':{'guardians of the galaxy 2':3.5,'christmas in august':4,'boss baby':5}\n",
    "}\n"
   ]
  },
  {
   "cell_type": "code",
   "execution_count": 2,
   "id": "a7f0bd27",
   "metadata": {},
   "outputs": [
    {
     "data": {
      "text/plain": [
       "{'boss baby': 1.5, 'christmas in august': 4, 'guardians of the galaxy 2': 5}"
      ]
     },
     "execution_count": 2,
     "metadata": {},
     "output_type": "execute_result"
    }
   ],
   "source": [
    "critics.get('hhd')\n",
    " \n",
    "{'boss baby': 1.5, 'christmas in august': 4, 'guardians of the galaxy 2': 5}"
   ]
  },
  {
   "cell_type": "code",
   "execution_count": 3,
   "id": "15591f8d",
   "metadata": {},
   "outputs": [
    {
     "data": {
      "text/plain": [
       "1.5"
      ]
     },
     "execution_count": 3,
     "metadata": {},
     "output_type": "execute_result"
    }
   ],
   "source": [
    "critics.get('hhd').get('boss baby')"
   ]
  },
  {
   "cell_type": "code",
   "execution_count": 4,
   "id": "6e3bcdfc",
   "metadata": {},
   "outputs": [],
   "source": [
    "from math import sqrt\n",
    "def sim(i, j):\n",
    "    return sqrt(pow(i,2)+pow(j,2))"
   ]
  },
  {
   "cell_type": "code",
   "execution_count": 6,
   "id": "b6b07d81",
   "metadata": {},
   "outputs": [
    {
     "data": {
      "text/plain": [
       "3.1622776601683795"
      ]
     },
     "execution_count": 6,
     "metadata": {},
     "output_type": "execute_result"
    }
   ],
   "source": [
    "var1 =  critics['chs']['christmas in august']-critics['leb']['christmas in august']\n",
    "var2 =  critics['chs']['boss baby']-critics['leb']['boss baby']\n",
    "sim(var1,var2) #위에서 정의한 함수"
   ]
  },
  {
   "cell_type": "code",
   "execution_count": 7,
   "id": "e37dbc88",
   "metadata": {},
   "outputs": [
    {
     "name": "stdout",
     "output_type": "stream",
     "text": [
      "hhd  :  1.118033988749895\n",
      "kmh  :  3.1622776601683795\n",
      "leb  :  3.1622776601683795\n"
     ]
    }
   ],
   "source": [
    "for i in critics:\n",
    "    if i!='chs': #자기자신제외\n",
    "        num1 = critics.get('chs').get('christmas in august')- critics.get(i).get('christmas in august')\n",
    "        num2 = critics.get('chs').get('boss baby')- critics.get(i).get('boss baby')\n",
    "        print(i,\" : \", sim(num1,num2))"
   ]
  },
  {
   "cell_type": "code",
   "execution_count": 8,
   "id": "6a259877",
   "metadata": {},
   "outputs": [
    {
     "name": "stdout",
     "output_type": "stream",
     "text": [
      "hhd  :  0.4721359549995794\n",
      "kmh  :  0.2402530733520421\n",
      "leb  :  0.2402530733520421\n"
     ]
    }
   ],
   "source": [
    "for i in critics:\n",
    "    if i!='chs':\n",
    "        num1 = critics.get('chs').get('christmas in august')- critics.get(i).get('christmas in august')\n",
    "        num2 = critics.get('chs').get('boss baby')- critics.get(i).get('boss baby')\n",
    "        print(i,\" : \", 1/(1+sim(num1,num2))) #정규화"
   ]
  },
  {
   "cell_type": "code",
   "execution_count": 9,
   "id": "25f32d10",
   "metadata": {},
   "outputs": [],
   "source": [
    "def sim_distance(data, name1, name2):\n",
    "    sum=0\n",
    "    for i in data[name1]:\n",
    "        if i in data[name2]: #같은 영화를 봤다면\n",
    "            sum+=pow(data[name1][i]- data[name2][i],2)\n",
    "        \n",
    "    return 1/(1+sqrt(sum))"
   ]
  },
  {
   "cell_type": "code",
   "execution_count": 10,
   "id": "24521aae",
   "metadata": {},
   "outputs": [
    {
     "data": {
      "text/plain": [
       "0.2402530733520421"
      ]
     },
     "execution_count": 10,
     "metadata": {},
     "output_type": "execute_result"
    }
   ],
   "source": [
    "sim_distance(critics, 'chs','leb')"
   ]
  },
  {
   "cell_type": "code",
   "execution_count": 11,
   "id": "aad515f5",
   "metadata": {},
   "outputs": [],
   "source": [
    "def top_match(data, name, index=3, sim_function=sim_distance):\n",
    "    li=[]\n",
    "    for i in data:\n",
    "        if name!=i: #자기 자신은 제외한다\n",
    "            li.append((sim_function(data,name,i),i)) # 유사도, 이름을 튜플에 묶어 리스트에 추가한다\n",
    "    li.sort() #오름차순 정렬\n",
    "    li.reverse() #내림차순 정렬\n",
    "    \n",
    "    return li[:index]\n"
   ]
  },
  {
   "cell_type": "code",
   "execution_count": 12,
   "id": "64e82771",
   "metadata": {},
   "outputs": [
    {
     "data": {
      "text/plain": [
       "[(0.4721359549995794, 'hhd'),\n",
       " (0.2402530733520421, 'leb'),\n",
       " (0.2402530733520421, 'kmh')]"
      ]
     },
     "execution_count": 12,
     "metadata": {},
     "output_type": "execute_result"
    }
   ],
   "source": [
    "top_match(critics, 'chs')"
   ]
  },
  {
   "cell_type": "code",
   "execution_count": 13,
   "id": "f409a7f4",
   "metadata": {},
   "outputs": [],
   "source": [
    "import matplotlib.pyplot as plt\n",
    "def barchart(data, labels): # data, labels는 list형태로 사용\n",
    "    positions = range(len(data))\n",
    "    plt.barh(positions, data, height=0.5,color='r') #가로\n",
    "    plt.yticks(positions, labels)\n",
    "    plt.xlabel('similarity') #x축\n",
    "    plt.ylabel('name') #y축\n",
    "    plt_show #출력\n"
   ]
  },
  {
   "cell_type": "code",
   "execution_count": 21,
   "id": "ba40f401",
   "metadata": {},
   "outputs": [
    {
     "ename": "IndentationError",
     "evalue": "unexpected indent (1211273436.py, line 2)",
     "output_type": "error",
     "traceback": [
      "\u001b[1;36m  Input \u001b[1;32mIn [21]\u001b[1;36m\u001b[0m\n\u001b[1;33m    score= []\u001b[0m\n\u001b[1;37m    ^\u001b[0m\n\u001b[1;31mIndentationError\u001b[0m\u001b[1;31m:\u001b[0m unexpected indent\n"
     ]
    }
   ],
   "source": [
    "top_match(critics, 'chs')"
   ]
  },
  {
   "cell_type": "code",
   "execution_count": null,
   "id": "7a48d6d7",
   "metadata": {},
   "outputs": [],
   "source": []
  }
 ],
 "metadata": {
  "kernelspec": {
   "display_name": "Python 3 (ipykernel)",
   "language": "python",
   "name": "python3"
  },
  "language_info": {
   "codemirror_mode": {
    "name": "ipython",
    "version": 3
   },
   "file_extension": ".py",
   "mimetype": "text/x-python",
   "name": "python",
   "nbconvert_exporter": "python",
   "pygments_lexer": "ipython3",
   "version": "3.9.12"
  }
 },
 "nbformat": 4,
 "nbformat_minor": 5
}
