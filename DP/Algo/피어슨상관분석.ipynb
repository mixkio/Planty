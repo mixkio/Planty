{
 "cells": [
  {
   "cell_type": "markdown",
   "id": "c875e8c5",
   "metadata": {},
   "source": [
    "# 한글 처리\n",
    "!sudo apt-get install -y fonts-nanum\n",
    "!sudo fc-cache -fv\n",
    "!rm ~/.cache/matplotlib -rf\n",
    "\n",
    "# 런타임 - 런타임 다시 시작 "
   ]
  },
  {
   "cell_type": "code",
   "execution_count": 6,
   "id": "25f31b75",
   "metadata": {},
   "outputs": [],
   "source": [
    "from matplotlib import font_manager, rc #한글이 나오게\n",
    "import matplotlib.pyplot as plt #plotting\n",
    "font_name = font_manager.FontProperties(fname=\"c:/Windows/Fonts/malgun.ttf\").get_name()\n",
    "rc('font', family=font_name)\n"
   ]
  },
  {
   "cell_type": "code",
   "execution_count": 7,
   "id": "478cd5e3",
   "metadata": {},
   "outputs": [],
   "source": [
    "critics = {\n",
    "    '이수민': {\n",
    "        '개운죽': 2.5,\n",
    "        '금전수': 3.5,\n",
    "        '떡갈잎고무나무': 3.0,\n",
    "        '몬스테라': 3.5,\n",
    "        '무늬접란': 2.5\n",
    "    },\n",
    "    '백승진': {\n",
    "        '개운죽': 1.0,\n",
    "        '금전수': 4.0,\n",
    "        '떡갈잎고무나무': 0.5,\n",
    "        '몬스테라': 1.5,\n",
    "        '무늬접란': 4.0 ,\n",
    "        \n",
    "    },\n",
    "    \n",
    "    '장지선': {\n",
    "        '개운죽': 3.0,\n",
    "        '금전수': 3.5,\n",
    "        '떡갈잎고무나무': 1.5,\n",
    "        '몬스테라': 4.0,\n",
    "        '무늬접란': 3.0,\n",
    "        \n",
    "    },\n",
    "    '조현빈': {\n",
    "        '개운죽': 2.5,\n",
    "        '금전수': 3.0,\n",
    "        #'떡갈잎고무나무': 3.0,\n",
    "        '몬스테라': 3.5,\n",
    "        '무늬접란': 4.0,\n",
    "        \n",
    "    },\n",
    "    '홍성목': {\n",
    "        #'개운죽': 2.0,\n",
    "        '금전수': 3.5,\n",
    "        '떡갈잎고무나무': 3.0,\n",
    "        '몬스테라': 4.0,\n",
    "        '무늬접란': 4.5,\n",
    "        \n",
    "    },\n",
    "    '김지현': {\n",
    "        '개운죽': 3.0,\n",
    "        '금전수': 4.0,\n",
    "        '떡갈잎고무나무': 2.0,\n",
    "        '몬스테라': 3.5,\n",
    "        '무늬접란': 2.0,\n",
    "        \n",
    "    },\n",
    "    '이태희': {\n",
    "        '개운죽': 3.0,\n",
    "        '금전수': 4.0,\n",
    "        #'떡갈잎고무나무': 2.5,\n",
    "        '몬스테라': 5.0,\n",
    "        '무늬접란': 3.0,\n",
    "        \n",
    "    },\n",
    "    '박현정': {\n",
    "        #'개운죽': 1.0,\n",
    "        '금전수': 4.5,\n",
    "        #'떡갈잎고무나무': 3.0,\n",
    "         '몬스테라': 4.0,\n",
    "        # '무늬접란': 0,\n",
    "        \n",
    "    },\n",
    "} "
   ]
  },
  {
   "cell_type": "code",
   "execution_count": 8,
   "id": "d25d059e",
   "metadata": {},
   "outputs": [],
   "source": [
    "# critics data 이용해 scatter plot 그리기\n",
    "def drawGraph(data, name1, name2):\n",
    "    plt.figure(figsize=(14,8)) # plot 크기설정\n",
    "    \n",
    "    # plot 좌표를 위한 list 선언\n",
    "    li = []\n",
    "    li2 = []\n",
    "    \n",
    "    for i in critics[name1]: # i = 키 값\n",
    "        if i in data[name2]: # 같은 영화를 평가했을때만\n",
    "            li.append(critics[name1][i]) # name1의 평점 li[]에 추가\n",
    "            li2.append(critics[name2][i]) # name2의 평점 li2[]에 추가\n",
    "            plt.text(critics[name1][i],critics[name2][i],i) # 영화 제목 text 찍기\n",
    "            \n",
    "    plt.plot(li,li2,'ro') #plot그리기\n",
    "    \n",
    "    #각 축의 크기 설정 (0에서 6까지)\n",
    "    plt.axis([0,6,0,6])\n",
    " \n",
    "    # x축과 y축 이름 설정\n",
    "    plt.xlabel(name1)\n",
    "    plt.ylabel(name2)\n",
    " \n",
    "    # 그리기\n",
    "    plt.show()"
   ]
  },
  {
   "cell_type": "code",
   "execution_count": 9,
   "id": "2ca7cad1",
   "metadata": {},
   "outputs": [
    {
     "data": {
      "image/png": "[encoded data removed]",
      "text/plain": [
       "<Figure size 1008x576 with 1 Axes>"
      ]
     },
     "metadata": {
      "needs_background": "light"
     },
     "output_type": "display_data"
    },
    {
     "data": {
      "image/png": "[encoded data removed]",
      "text/plain": [
       "<Figure size 1008x576 with 1 Axes>"
      ]
     },
     "metadata": {
      "needs_background": "light"
     },
     "output_type": "display_data"
    }
   ],
   "source": [
    "drawGraph(critics,'이수민','김지현')\n",
    "drawGraph(critics,'장지선','백승진')"
   ]
  },
  {
   "cell_type": "code",
   "execution_count": 10,
   "id": "ebcba7da",
   "metadata": {},
   "outputs": [],
   "source": [
    "# 피어슨 상관계수 구하기\n",
    "import math\n",
    "def sim_pearson(data, name1, name2):\n",
    "    sumX=0 # X의 합\n",
    "    sumY=0 # Y의 합\n",
    "    sumPowX=0 # X 제곱의 합\n",
    "    sumPowY=0 # Y 제곱의 합\n",
    "    sumXY=0 # X*Y의 합\n",
    "    count=0 #식물 개수\n",
    "    \n",
    "    for i in data[name1]: # i = key\n",
    "        if i in data[name2]: # 같은 식물을 평가했을때만\n",
    "            sumX+=data[name1][i]\n",
    "            sumY+=data[name2][i]\n",
    "            sumPowX+=pow(data[name1][i],2)\n",
    "            sumPowY+=pow(data[name2][i],2)\n",
    "            sumXY+=data[name1][i]*data[name2][i]\n",
    "            count+=1\n",
    "    \n",
    "    return ( sumXY- ((sumX*sumY)/count) )/ math.sqrt( (sumPowX - (pow(sumX,2) / count)) * (sumPowY - (pow(sumY,2)/count)))"
   ]
  },
  {
   "cell_type": "code",
   "execution_count": 11,
   "id": "2bfc9fa3",
   "metadata": {},
   "outputs": [
    {
     "data": {
      "text/plain": [
       "0.698771242968684"
      ]
     },
     "execution_count": 11,
     "metadata": {},
     "output_type": "execute_result"
    }
   ],
   "source": [
    "sim_pearson(critics,'이수민','김지현')"
   ]
  },
  {
   "cell_type": "code",
   "execution_count": 12,
   "id": "5d3e1b51",
   "metadata": {},
   "outputs": [
    {
     "data": {
      "text/plain": [
       "0.4372798344344661"
      ]
     },
     "execution_count": 12,
     "metadata": {},
     "output_type": "execute_result"
    }
   ],
   "source": [
    "sim_pearson(critics, '장지선','백승진')"
   ]
  },
  {
   "cell_type": "code",
   "execution_count": 13,
   "id": "708d3444",
   "metadata": {},
   "outputs": [],
   "source": [
    "# 딕셔너리 돌면서 상관계수순으로 정렬\n",
    "def top_match(data, name, index=3, sim_function=sim_pearson):\n",
    "    li=[]\n",
    "    for i in data: #딕셔너리를 돌고\n",
    "        if name!=i: #자기 자신이 아닐때만\n",
    "            li.append((sim_function(data,name,i),i)) #sim_function()을 통해 상관계수를 구하고 li[]에 추가\n",
    "    li.sort() #오름차순\n",
    "    li.reverse() #내림차순\n",
    "    return li[:index]"
   ]
  },
  {
   "cell_type": "code",
   "execution_count": 14,
   "id": "787ad86f",
   "metadata": {},
   "outputs": [
    {
     "ename": "ZeroDivisionError",
     "evalue": "float division by zero",
     "output_type": "error",
     "traceback": [
      "\u001b[1;31m---------------------------------------------------------------------------\u001b[0m",
      "\u001b[1;31mZeroDivisionError\u001b[0m                         Traceback (most recent call last)",
      "Input \u001b[1;32mIn [14]\u001b[0m, in \u001b[0;36m<cell line: 1>\u001b[1;34m()\u001b[0m\n\u001b[1;32m----> 1\u001b[0m \u001b[43mtop_match\u001b[49m\u001b[43m(\u001b[49m\u001b[43mcritics\u001b[49m\u001b[43m,\u001b[49m\u001b[43m \u001b[49m\u001b[38;5;124;43m'\u001b[39;49m\u001b[38;5;124;43m박현정\u001b[39;49m\u001b[38;5;124;43m'\u001b[39;49m\u001b[43m,\u001b[49m\u001b[38;5;241;43m3\u001b[39;49m\u001b[43m)\u001b[49m\n",
      "Input \u001b[1;32mIn [13]\u001b[0m, in \u001b[0;36mtop_match\u001b[1;34m(data, name, index, sim_function)\u001b[0m\n\u001b[0;32m      4\u001b[0m \u001b[38;5;28;01mfor\u001b[39;00m i \u001b[38;5;129;01min\u001b[39;00m data: \u001b[38;5;66;03m#딕셔너리를 돌고\u001b[39;00m\n\u001b[0;32m      5\u001b[0m     \u001b[38;5;28;01mif\u001b[39;00m name\u001b[38;5;241m!=\u001b[39mi: \u001b[38;5;66;03m#자기 자신이 아닐때만\u001b[39;00m\n\u001b[1;32m----> 6\u001b[0m         li\u001b[38;5;241m.\u001b[39mappend((\u001b[43msim_function\u001b[49m\u001b[43m(\u001b[49m\u001b[43mdata\u001b[49m\u001b[43m,\u001b[49m\u001b[43mname\u001b[49m\u001b[43m,\u001b[49m\u001b[43mi\u001b[49m\u001b[43m)\u001b[49m,i)) \u001b[38;5;66;03m#sim_function()을 통해 상관계수를 구하고 li[]에 추가\u001b[39;00m\n\u001b[0;32m      7\u001b[0m li\u001b[38;5;241m.\u001b[39msort() \u001b[38;5;66;03m#오름차순\u001b[39;00m\n\u001b[0;32m      8\u001b[0m li\u001b[38;5;241m.\u001b[39mreverse() \u001b[38;5;66;03m#내림차순\u001b[39;00m\n",
      "Input \u001b[1;32mIn [10]\u001b[0m, in \u001b[0;36msim_pearson\u001b[1;34m(data, name1, name2)\u001b[0m\n\u001b[0;32m     17\u001b[0m         sumXY\u001b[38;5;241m+\u001b[39m\u001b[38;5;241m=\u001b[39mdata[name1][i]\u001b[38;5;241m*\u001b[39mdata[name2][i]\n\u001b[0;32m     18\u001b[0m         count\u001b[38;5;241m+\u001b[39m\u001b[38;5;241m=\u001b[39m\u001b[38;5;241m1\u001b[39m\n\u001b[1;32m---> 20\u001b[0m \u001b[38;5;28;01mreturn\u001b[39;00m \u001b[43m(\u001b[49m\u001b[43m \u001b[49m\u001b[43msumXY\u001b[49m\u001b[38;5;241;43m-\u001b[39;49m\u001b[43m \u001b[49m\u001b[43m(\u001b[49m\u001b[43m(\u001b[49m\u001b[43msumX\u001b[49m\u001b[38;5;241;43m*\u001b[39;49m\u001b[43msumY\u001b[49m\u001b[43m)\u001b[49m\u001b[38;5;241;43m/\u001b[39;49m\u001b[43mcount\u001b[49m\u001b[43m)\u001b[49m\u001b[43m \u001b[49m\u001b[43m)\u001b[49m\u001b[38;5;241;43m/\u001b[39;49m\u001b[43m \u001b[49m\u001b[43mmath\u001b[49m\u001b[38;5;241;43m.\u001b[39;49m\u001b[43msqrt\u001b[49m\u001b[43m(\u001b[49m\u001b[43m \u001b[49m\u001b[43m(\u001b[49m\u001b[43msumPowX\u001b[49m\u001b[43m \u001b[49m\u001b[38;5;241;43m-\u001b[39;49m\u001b[43m \u001b[49m\u001b[43m(\u001b[49m\u001b[38;5;28;43mpow\u001b[39;49m\u001b[43m(\u001b[49m\u001b[43msumX\u001b[49m\u001b[43m,\u001b[49m\u001b[38;5;241;43m2\u001b[39;49m\u001b[43m)\u001b[49m\u001b[43m \u001b[49m\u001b[38;5;241;43m/\u001b[39;49m\u001b[43m \u001b[49m\u001b[43mcount\u001b[49m\u001b[43m)\u001b[49m\u001b[43m)\u001b[49m\u001b[43m \u001b[49m\u001b[38;5;241;43m*\u001b[39;49m\u001b[43m \u001b[49m\u001b[43m(\u001b[49m\u001b[43msumPowY\u001b[49m\u001b[43m \u001b[49m\u001b[38;5;241;43m-\u001b[39;49m\u001b[43m \u001b[49m\u001b[43m(\u001b[49m\u001b[38;5;28;43mpow\u001b[39;49m\u001b[43m(\u001b[49m\u001b[43msumY\u001b[49m\u001b[43m,\u001b[49m\u001b[38;5;241;43m2\u001b[39;49m\u001b[43m)\u001b[49m\u001b[38;5;241;43m/\u001b[39;49m\u001b[43mcount\u001b[49m\u001b[43m)\u001b[49m\u001b[43m)\u001b[49m\u001b[43m)\u001b[49m\n",
      "\u001b[1;31mZeroDivisionError\u001b[0m: float division by zero"
     ]
    }
   ],
   "source": [
    "top_match(critics, '박현정',3)"
   ]
  },
  {
   "cell_type": "code",
   "execution_count": 15,
   "id": "ff912ea4",
   "metadata": {},
   "outputs": [],
   "source": [
    "def getRecommendation (data,person,sim_function=sim_pearson):\n",
    "    result = top_match(critics, person ,len(data))\n",
    "    \n",
    "    simSum=0 # 유사도 합을 위한 변수\n",
    "    score=0 # 평점 합을 위한 변수\n",
    "    li=[] # 리턴을 위한 리스트\n",
    "    score_dic={} # 유사도 총합을 위한 dic\n",
    "    sim_dic={} # 평점 총합을 위한 dic\n",
    " \n",
    "    for sim,name in result: # 튜플이므로 한번에 \n",
    "        if sim<0 : continue #유사도가 양수인 사람만\n",
    "        for movie in data[name]: \n",
    "            if movie not in data[person]: #name이 평가를 내리지 않은 식물\n",
    "                score+=sim*data[name][movie] # 그사람의 식물평점 * 유사도\n",
    "                score_dic.setdefault(movie,0) # 기본값 설정\n",
    "                score_dic[movie]+=score # 합계 구함\n",
    " \n",
    "                # 조건에 맞는 사람의 유사도의 누적합을 구한다\n",
    "                sim_dic.setdefault(movie,0) \n",
    "                sim_dic[movie]+=sim\n",
    " \n",
    "            score=0  #식물이 바뀌었으니 초기화한다\n",
    "    \n",
    "    for key in score_dic: \n",
    "        score_dic[key]=score_dic[key]/sim_dic[key] # 평점 총합/ 유사도 총합\n",
    "        li.append((score_dic[key],key)) # list((tuple))의 리턴을 위해서.\n",
    "    li.sort() #오름차순\n",
    "    li.reverse() #내림차순\n",
    "    return li"
   ]
  },
  {
   "cell_type": "code",
   "execution_count": 16,
   "id": "9f074549",
   "metadata": {},
   "outputs": [
    {
     "ename": "ZeroDivisionError",
     "evalue": "float division by zero",
     "output_type": "error",
     "traceback": [
      "\u001b[1;31m---------------------------------------------------------------------------\u001b[0m",
      "\u001b[1;31mZeroDivisionError\u001b[0m                         Traceback (most recent call last)",
      "Input \u001b[1;32mIn [16]\u001b[0m, in \u001b[0;36m<cell line: 1>\u001b[1;34m()\u001b[0m\n\u001b[1;32m----> 1\u001b[0m \u001b[43mgetRecommendation\u001b[49m\u001b[43m(\u001b[49m\u001b[43mcritics\u001b[49m\u001b[43m,\u001b[49m\u001b[43m \u001b[49m\u001b[38;5;124;43m'\u001b[39;49m\u001b[38;5;124;43m박현정\u001b[39;49m\u001b[38;5;124;43m'\u001b[39;49m\u001b[43m)\u001b[49m\n",
      "Input \u001b[1;32mIn [15]\u001b[0m, in \u001b[0;36mgetRecommendation\u001b[1;34m(data, person, sim_function)\u001b[0m\n\u001b[0;32m      1\u001b[0m \u001b[38;5;28;01mdef\u001b[39;00m \u001b[38;5;21mgetRecommendation\u001b[39m (data,person,sim_function\u001b[38;5;241m=\u001b[39msim_pearson):\n\u001b[1;32m----> 2\u001b[0m     result \u001b[38;5;241m=\u001b[39m \u001b[43mtop_match\u001b[49m\u001b[43m(\u001b[49m\u001b[43mcritics\u001b[49m\u001b[43m,\u001b[49m\u001b[43m \u001b[49m\u001b[43mperson\u001b[49m\u001b[43m \u001b[49m\u001b[43m,\u001b[49m\u001b[38;5;28;43mlen\u001b[39;49m\u001b[43m(\u001b[49m\u001b[43mdata\u001b[49m\u001b[43m)\u001b[49m\u001b[43m)\u001b[49m\n\u001b[0;32m      4\u001b[0m     simSum\u001b[38;5;241m=\u001b[39m\u001b[38;5;241m0\u001b[39m \u001b[38;5;66;03m# 유사도 합을 위한 변수\u001b[39;00m\n\u001b[0;32m      5\u001b[0m     score\u001b[38;5;241m=\u001b[39m\u001b[38;5;241m0\u001b[39m \u001b[38;5;66;03m# 평점 합을 위한 변수\u001b[39;00m\n",
      "Input \u001b[1;32mIn [13]\u001b[0m, in \u001b[0;36mtop_match\u001b[1;34m(data, name, index, sim_function)\u001b[0m\n\u001b[0;32m      4\u001b[0m \u001b[38;5;28;01mfor\u001b[39;00m i \u001b[38;5;129;01min\u001b[39;00m data: \u001b[38;5;66;03m#딕셔너리를 돌고\u001b[39;00m\n\u001b[0;32m      5\u001b[0m     \u001b[38;5;28;01mif\u001b[39;00m name\u001b[38;5;241m!=\u001b[39mi: \u001b[38;5;66;03m#자기 자신이 아닐때만\u001b[39;00m\n\u001b[1;32m----> 6\u001b[0m         li\u001b[38;5;241m.\u001b[39mappend((\u001b[43msim_function\u001b[49m\u001b[43m(\u001b[49m\u001b[43mdata\u001b[49m\u001b[43m,\u001b[49m\u001b[43mname\u001b[49m\u001b[43m,\u001b[49m\u001b[43mi\u001b[49m\u001b[43m)\u001b[49m,i)) \u001b[38;5;66;03m#sim_function()을 통해 상관계수를 구하고 li[]에 추가\u001b[39;00m\n\u001b[0;32m      7\u001b[0m li\u001b[38;5;241m.\u001b[39msort() \u001b[38;5;66;03m#오름차순\u001b[39;00m\n\u001b[0;32m      8\u001b[0m li\u001b[38;5;241m.\u001b[39mreverse() \u001b[38;5;66;03m#내림차순\u001b[39;00m\n",
      "Input \u001b[1;32mIn [10]\u001b[0m, in \u001b[0;36msim_pearson\u001b[1;34m(data, name1, name2)\u001b[0m\n\u001b[0;32m     17\u001b[0m         sumXY\u001b[38;5;241m+\u001b[39m\u001b[38;5;241m=\u001b[39mdata[name1][i]\u001b[38;5;241m*\u001b[39mdata[name2][i]\n\u001b[0;32m     18\u001b[0m         count\u001b[38;5;241m+\u001b[39m\u001b[38;5;241m=\u001b[39m\u001b[38;5;241m1\u001b[39m\n\u001b[1;32m---> 20\u001b[0m \u001b[38;5;28;01mreturn\u001b[39;00m \u001b[43m(\u001b[49m\u001b[43m \u001b[49m\u001b[43msumXY\u001b[49m\u001b[38;5;241;43m-\u001b[39;49m\u001b[43m \u001b[49m\u001b[43m(\u001b[49m\u001b[43m(\u001b[49m\u001b[43msumX\u001b[49m\u001b[38;5;241;43m*\u001b[39;49m\u001b[43msumY\u001b[49m\u001b[43m)\u001b[49m\u001b[38;5;241;43m/\u001b[39;49m\u001b[43mcount\u001b[49m\u001b[43m)\u001b[49m\u001b[43m \u001b[49m\u001b[43m)\u001b[49m\u001b[38;5;241;43m/\u001b[39;49m\u001b[43m \u001b[49m\u001b[43mmath\u001b[49m\u001b[38;5;241;43m.\u001b[39;49m\u001b[43msqrt\u001b[49m\u001b[43m(\u001b[49m\u001b[43m \u001b[49m\u001b[43m(\u001b[49m\u001b[43msumPowX\u001b[49m\u001b[43m \u001b[49m\u001b[38;5;241;43m-\u001b[39;49m\u001b[43m \u001b[49m\u001b[43m(\u001b[49m\u001b[38;5;28;43mpow\u001b[39;49m\u001b[43m(\u001b[49m\u001b[43msumX\u001b[49m\u001b[43m,\u001b[49m\u001b[38;5;241;43m2\u001b[39;49m\u001b[43m)\u001b[49m\u001b[43m \u001b[49m\u001b[38;5;241;43m/\u001b[39;49m\u001b[43m \u001b[49m\u001b[43mcount\u001b[49m\u001b[43m)\u001b[49m\u001b[43m)\u001b[49m\u001b[43m \u001b[49m\u001b[38;5;241;43m*\u001b[39;49m\u001b[43m \u001b[49m\u001b[43m(\u001b[49m\u001b[43msumPowY\u001b[49m\u001b[43m \u001b[49m\u001b[38;5;241;43m-\u001b[39;49m\u001b[43m \u001b[49m\u001b[43m(\u001b[49m\u001b[38;5;28;43mpow\u001b[39;49m\u001b[43m(\u001b[49m\u001b[43msumY\u001b[49m\u001b[43m,\u001b[49m\u001b[38;5;241;43m2\u001b[39;49m\u001b[43m)\u001b[49m\u001b[38;5;241;43m/\u001b[39;49m\u001b[43mcount\u001b[49m\u001b[43m)\u001b[49m\u001b[43m)\u001b[49m\u001b[43m)\u001b[49m\n",
      "\u001b[1;31mZeroDivisionError\u001b[0m: float division by zero"
     ]
    }
   ],
   "source": [
    "getRecommendation(critics, '박현정')"
   ]
  },
  {
   "cell_type": "code",
   "execution_count": 17,
   "id": "9531ecc8",
   "metadata": {},
   "outputs": [
    {
     "name": "stdout",
     "output_type": "stream",
     "text": [
      "박현정 이수민\n",
      "1 15.75 15.75 0.0\n",
      "2 29.75 29.75 0.0\n",
      "박현정 백승진\n",
      "1 18.0 18.0 0.0\n",
      "2 24.0 23.375 0.625\n",
      "박현정 장지선\n",
      "1 15.75 15.75 0.0\n",
      "2 31.75 31.875 -0.125\n",
      "박현정 조현빈\n",
      "1 13.5 13.5 0.0\n",
      "2 27.5 27.625 -0.125\n",
      "박현정 홍성목\n",
      "1 15.75 15.75 0.0\n",
      "2 31.75 31.875 -0.125\n",
      "박현정 김지현\n",
      "1 18.0 18.0 0.0\n",
      "2 32.0 31.875 0.125\n",
      "박현정 이태희\n",
      "1 18.0 18.0 0.0\n",
      "2 38.0 38.25 -0.25\n"
     ]
    },
    {
     "data": {
      "text/plain": [
       "[(None, '홍성목'), (None, '조현빈'), (None, '장지선')]"
      ]
     },
     "execution_count": 17,
     "metadata": {},
     "output_type": "execute_result"
    }
   ],
   "source": [
    "# 피어슨 상관계수 구하기\n",
    "import math\n",
    "def sim_pearson(data, name1, name2):\n",
    "    print(name1, name2)\n",
    "    sumX=0 # X의 합\n",
    "    sumY=0 # Y의 합\n",
    "    sumPowX=0 # X 제곱의 합\n",
    "    sumPowY=0 # Y 제곱의 합\n",
    "    sumXY=0 # X*Y의 합\n",
    "    count=0 #식물 개수\n",
    "\n",
    "    for i in data[name1]: # i = key\n",
    "        if i in data[name2]: # 같은 식물을 평가했을때만\n",
    "            sumX+=data[name1][i]\n",
    "            sumY+=data[name2][i]\n",
    "            sumPowX+=pow(data[name1][i],2)\n",
    "            sumPowY+=pow(data[name2][i],2)\n",
    "            sumXY+=data[name1][i]*data[name2][i]\n",
    "            count+=1\n",
    "        print(count, sumXY, sumX*sumY/count, sumXY-(sumX*sumY/count))\n",
    "\n",
    "    #return ( sumXY- ((sumX*sumY)/count) )/ math.sqrt( (sumPowX - (pow(sumX,2) / count)) * (sumPowY - (pow(sumY,2)/count)))\n",
    "\n",
    "# 딕셔너리 돌면서 상관계수순으로 정렬\n",
    "def top_match(data, name, index=3, sim_function=sim_pearson):\n",
    "    li=[]\n",
    "    for i in data: #딕셔너리를 돌고\n",
    "        if name!=i: #자기 자신이 아닐때만\n",
    "            li.append((sim_function(data,name,i),i)) #sim_function()을 통해 상관계수를 구하고 li[]에 추가\n",
    "    li.sort() #오름차순\n",
    "    li.reverse() #내림차순\n",
    "    return li[:index]\n",
    "\n",
    "top_match(critics, '박현정',3)"
   ]
  },
  {
   "cell_type": "code",
   "execution_count": null,
   "id": "fbd21496",
   "metadata": {},
   "outputs": [],
   "source": []
  }
 ],
 "metadata": {
  "kernelspec": {
   "display_name": "Python 3 (ipykernel)",
   "language": "python",
   "name": "python3"
  },
  "language_info": {
   "codemirror_mode": {
    "name": "ipython",
    "version": 3
   },
   "file_extension": ".py",
   "mimetype": "text/x-python",
   "name": "python",
   "nbconvert_exporter": "python",
   "pygments_lexer": "ipython3",
   "version": "3.9.12"
  }
 },
 "nbformat": 4,
 "nbformat_minor": 5
}
